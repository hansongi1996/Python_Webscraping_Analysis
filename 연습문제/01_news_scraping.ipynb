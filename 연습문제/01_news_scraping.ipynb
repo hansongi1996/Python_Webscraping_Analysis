{
 "cells": [
  {
   "cell_type": "code",
   "execution_count": 1,
   "id": "a8beef37",
   "metadata": {},
   "outputs": [
    {
     "name": "stdout",
     "output_type": "stream",
     "text": [
      "Name: requests\n",
      "Version: 2.32.3\n",
      "Summary: Python HTTP for Humans.\n",
      "Home-page: https://requests.readthedocs.io\n",
      "Author: Kenneth Reitz\n",
      "Author-email: me@kennethreitz.org\n",
      "License: Apache-2.0\n",
      "Location: C:\\Users\\user\\anaconda3\\Lib\\site-packages\n",
      "Requires: certifi, charset-normalizer, idna, urllib3\n",
      "Required-by: aext-assistant-server, anaconda-auth, anaconda-catalogs, anaconda-client, anaconda-project, conda, conda-build, conda-repo-cli, conda_package_streaming, cookiecutter, datashader, jupyterlab_server, panel, requests-file, requests-toolbelt, Sphinx, streamlit, tldextract\n"
     ]
    }
   ],
   "source": [
    "# requests 라이브러리 설치여부 확인\n",
    "!pip show requests"
   ]
  },
  {
   "cell_type": "code",
   "execution_count": 2,
   "id": "7941aaaf",
   "metadata": {},
   "outputs": [
    {
     "name": "stdout",
     "output_type": "stream",
     "text": [
      "Name: beautifulsoup4\n",
      "Version: 4.12.3\n",
      "Summary: Screen-scraping library\n",
      "Home-page: https://www.crummy.com/software/BeautifulSoup/bs4/\n",
      "Author: \n",
      "Author-email: Leonard Richardson <leonardr@segfault.org>\n",
      "License: MIT License\n",
      "Location: C:\\Users\\user\\anaconda3\\Lib\\site-packages\n",
      "Requires: soupsieve\n",
      "Required-by: conda-build, nbconvert\n"
     ]
    }
   ],
   "source": [
    "# beautifulsoup4 라이브러리 설치여부 확인\n",
    "!pip show beautifulsoup4"
   ]
  },
  {
   "cell_type": "code",
   "execution_count": 3,
   "id": "f6b22050",
   "metadata": {},
   "outputs": [],
   "source": [
    "# reqeusts, bs4 import\n",
    "import requests\n",
    "# BeautifulSoup import\n",
    "import bs4\n",
    "# beautifulsoup4 클래스\n",
    "from bs4 import BeautifulSoup"
   ]
  },
  {
   "cell_type": "code",
   "execution_count": 4,
   "id": "f9b2ee8f",
   "metadata": {},
   "outputs": [
    {
     "name": "stdout",
     "output_type": "stream",
     "text": [
      "requests 버전 = 2.32.3\n",
      "bs4버전 = 4.12.3\n"
     ]
    }
   ],
   "source": [
    "# requests, bs4 버전 확인하기\n",
    "print(f'requests 버전 = {requests.__version__}')\n",
    "print(f'bs4버전 = {bs4.__version__}')"
   ]
  },
  {
   "cell_type": "markdown",
   "id": "51ba80bf",
   "metadata": {},
   "source": [
    "### 질문1. 뉴스 제목 추출하기"
   ]
  },
  {
   "cell_type": "code",
   "execution_count": 1,
   "id": "ce3d5af7",
   "metadata": {},
   "outputs": [
    {
     "name": "stdout",
     "output_type": "stream",
     "text": [
      "https://news.daum.net/breakingnews/economic\n"
     ]
    }
   ],
   "source": [
    "# 다음 경제 뉴스 URL\n",
    "req_param = {\n",
    "    'cat': 'economic'  # 경제 'economic'\n",
    "}\n",
    "\n",
    "url = 'https://news.daum.net/breakingnews/{cat}'.format(**req_param)\n",
    "print(url)"
   ]
  },
  {
   "cell_type": "code",
   "execution_count": 11,
   "id": "de121327",
   "metadata": {},
   "outputs": [
    {
     "ename": "IndentationError",
     "evalue": "expected an indented block after 'for' statement on line 39 (823785614.py, line 40)",
     "output_type": "error",
     "traceback": [
      "\u001b[1;36m  Cell \u001b[1;32mIn[11], line 40\u001b[1;36m\u001b[0m\n\u001b[1;33m    a_tag = li_tag.find('a')\u001b[0m\n\u001b[1;37m    ^\u001b[0m\n\u001b[1;31mIndentationError\u001b[0m\u001b[1;31m:\u001b[0m expected an indented block after 'for' statement on line 39\n"
     ]
    }
   ],
   "source": [
    "import requests\n",
    "from bs4 import BeautifulSoup\n",
    "\n",
    "# 요청 URL 설정 (다음 경제 뉴스)\n",
    "req_param = {\n",
    "    'sid': 'economic'\n",
    "}\n",
    "url = 'https://news.daum.net/breakingnews/{sid}'.format(**req_param)\n",
    "print(url)\n",
    "\n",
    "# 요청 헤더 (브라우저 정보)\n",
    "req_header = {\n",
    "    \"user-agent\": \"Mozilla/5.0 (Windows NT 10.0; Win64; x64) AppleWebKit/537.36 (KHTML, like Gecko) Chrome/138.0.0.0 Safari/537.36\"\n",
    "}\n",
    "\n",
    "# requests 의 get() 함수 호출하기 \n",
    "res=requests.get(url,headers=req_header)\n",
    "print(res.status_code, res.ok)\n",
    "print(type(res))\n",
    "print(res)\n",
    "\n",
    "# 응답(response)이 OK 이면\n",
    "# 응답 (response)에서 text 추출\n",
    "if res.ok:\n",
    "    html = res.text\n",
    "    # BeautifulSoup 객체 생성\n",
    "    soup = BeautifulSoup(html, \"html.parser\")   \n",
    "    #print(soup)\n",
    "    # CSS 선택자\n",
    "    # print(soup.select(\"div.sa_text a[href*='mnews/article']\"))\n",
    "    '''\n",
    "       <div class=\"cont_thum\"> \n",
    "          <strong class=\"tit_txt\">뉴스제목\n",
    "    '''\n",
    "    a_tags = soup.select(\"div.sa_text a[href*='https://n.news.naver.com/mnews/article'].sa_text_title\")\n",
    "    print(len(a_tags))\n",
    "    print(type(a_tags)) #[Tag,Tag,Tag]\n",
    "    # <a> 태그 리스트 순회하기\n",
    "    for li_tag in select('ul.list_newsheadline2 li'):\n",
    "    a_tag = li_tag.find('a')\n",
    "    link = a_tag['href']\t\n",
    "\n",
    "            #print(len(title))\n",
    "            strong_tag = li_tag.select_one('div.cont_thumb strong.tit_txt')\n",
    "            title = strong_tag.text\n",
    "\n",
    "else:\n",
    "    # 응답(response)이 Error 이면 status code 출력    \n",
    "    print(f'Error Code = {res.status_code}')"
   ]
  },
  {
   "cell_type": "code",
   "execution_count": null,
   "id": "8b395203",
   "metadata": {},
   "outputs": [
    {
     "name": "stdout",
     "output_type": "stream",
     "text": [
      "200\n",
      "0\n"
     ]
    }
   ],
   "source": [
    "import requests\n",
    "from bs4 import BeautifulSoup\n",
    "\n",
    "# 다음 경제 뉴스 URL\n",
    "url = 'https://news.daum.net/breakingnews/economic'\n",
    "\n",
    "# 브라우저 헤더 정보 (없으면 차단될 수 있음)\n",
    "headers = {\n",
    "    \"user-agent\": \"Mozilla/5.0\"\n",
    "}\n",
    "\n",
    "# 요청\n",
    "res = requests.get(url, headers=headers)\n",
    "\n",
    "# 응답 확인\n",
    "print(res.status_code)\n",
    "\n",
    "if res.ok:\n",
    "    soup = BeautifulSoup(res.text, 'html.parser')\n",
    "\n",
    "    # 뉴스 기사 리스트 추출\n",
    "    news_list = soup.select('ul.list_news2 li')\n",
    "\n",
    "    print(len(news_list))  # 몇 개 있는지 확인\n",
    "\n",
    "    for idx, li in enumerate(news_list, 1):\n",
    "        a_tag = li.find('a')\n",
    "        strong_tag = li.select_one('div.cont_thumb strong.tit_thumb')\n",
    "\n",
    "        if a_tag and strong_tag:\n",
    "            title = strong_tag.get_text(strip=True)\n",
    "            link = a_tag['href']\n",
    "            print(f\"{idx}. {title}\\n{link}\\n\")\n",
    "\n",
    "else:\n",
    "    print(f\"Error: {res.status_code}\")\n",
    "-"
   ]
  },
  {
   "cell_type": "markdown",
   "id": "c08d1aa2",
   "metadata": {},
   "source": [
    "### 질문2. url에서 뉴스기사의 링크와 제목을 출력하는 코드를 함수로 작성하기\n"
   ]
  },
  {
   "cell_type": "code",
   "execution_count": 15,
   "id": "c40d70ac",
   "metadata": {},
   "outputs": [],
   "source": [
    "import requests\n",
    "from bs4 import BeautifulSoup\n",
    "\n",
    "# 섹션 이름과 URL 조합을 위한 딕셔너리\n",
    "section_dict = {\n",
    "    '기후/환경': 'climate',\n",
    "    '사회': 'society',\n",
    "    '경제': 'economy',\n",
    "    '정치': 'politics',\n",
    "    '국제': 'world',\n",
    "    '문화': 'culture',\n",
    "    '생활': 'life',\n",
    "    'IT/과학': 'tech',\n",
    "    '인물': 'people'\n",
    "}\n",
    "\n",
    "# 뉴스 출력 함수 정의\n",
    "def print_news(section_name):\n",
    "    # 섹션명으로 영어 키 추출\n",
    "    if section_name not in section_dict:\n",
    "        print(f\"❌ 섹션명 '{section_name}'은(는) 존재하지 않아요.\")\n",
    "        return\n",
    "\n",
    "    section_key = section_dict[section_name]\n",
    "    url = f\"https://news.daum.net/{section_key}\"\n",
    "\n",
    "    print(f\"\\n======> {url} {section_name} 뉴스 <======\")\n",
    "\n",
    "    # 요청 보내기\n",
    "    headers = {\n",
    "        \"user-agent\": \"Mozilla/5.0\"\n",
    "    }\n",
    "\n",
    "    res = requests.get(url, headers=headers)\n",
    "\n",
    "    if res.ok:\n",
    "        soup = BeautifulSoup(res.text, 'html.parser')\n",
    "        li_tags = soup.select('ul.list_news2 li')\n",
    "\n",
    "        for idx, li in enumerate(li_tags, 1):\n",
    "            a_tag = li.find('a')\n",
    "            strong_tag = li.select_one('div.cont_thumb strong.tit_thumb')\n",
    "\n",
    "            if a_tag and strong_tag:\n",
    "                title = strong_tag.get_text(strip=True)\n",
    "                link = a_tag['href']\n",
    "                print(f\"{idx}. {link}\\n   {title}\\n\")\n",
    "    else:\n",
    "        print(f\"Error: {res.status_code}\")"
   ]
  },
  {
   "cell_type": "code",
   "execution_count": 14,
   "id": "499c74ec",
   "metadata": {},
   "outputs": [
    {
     "ename": "RecursionError",
     "evalue": "maximum recursion depth exceeded",
     "output_type": "error",
     "traceback": [
      "\u001b[1;31m---------------------------------------------------------------------------\u001b[0m",
      "\u001b[1;31mRecursionError\u001b[0m                            Traceback (most recent call last)",
      "Cell \u001b[1;32mIn[14], line 2\u001b[0m\n\u001b[0;32m      1\u001b[0m \u001b[38;5;66;03m# 함수 호출\u001b[39;00m\n\u001b[1;32m----> 2\u001b[0m print_news(\u001b[38;5;124m'\u001b[39m\u001b[38;5;124m경제\u001b[39m\u001b[38;5;124m'\u001b[39m)\n\u001b[0;32m      3\u001b[0m print_news(\u001b[38;5;124m'\u001b[39m\u001b[38;5;124m사회\u001b[39m\u001b[38;5;124m'\u001b[39m)\n",
      "Cell \u001b[1;32mIn[13], line 15\u001b[0m, in \u001b[0;36mprint_news\u001b[1;34m(section_name)\u001b[0m\n\u001b[0;32m     12\u001b[0m section_key \u001b[38;5;241m=\u001b[39m section_dict[section_name]\n\u001b[0;32m     13\u001b[0m url \u001b[38;5;241m=\u001b[39m \u001b[38;5;124mf\u001b[39m\u001b[38;5;124m\"\u001b[39m\u001b[38;5;124mhttps://news.daum.net/\u001b[39m\u001b[38;5;132;01m{\u001b[39;00msection_key\u001b[38;5;132;01m}\u001b[39;00m\u001b[38;5;124m\"\u001b[39m\n\u001b[1;32m---> 15\u001b[0m print_news(\u001b[38;5;124m\"\u001b[39m\u001b[38;5;124m경제\u001b[39m\u001b[38;5;124m\"\u001b[39m)\n",
      "Cell \u001b[1;32mIn[13], line 15\u001b[0m, in \u001b[0;36mprint_news\u001b[1;34m(section_name)\u001b[0m\n\u001b[0;32m     12\u001b[0m section_key \u001b[38;5;241m=\u001b[39m section_dict[section_name]\n\u001b[0;32m     13\u001b[0m url \u001b[38;5;241m=\u001b[39m \u001b[38;5;124mf\u001b[39m\u001b[38;5;124m\"\u001b[39m\u001b[38;5;124mhttps://news.daum.net/\u001b[39m\u001b[38;5;132;01m{\u001b[39;00msection_key\u001b[38;5;132;01m}\u001b[39;00m\u001b[38;5;124m\"\u001b[39m\n\u001b[1;32m---> 15\u001b[0m print_news(\u001b[38;5;124m\"\u001b[39m\u001b[38;5;124m경제\u001b[39m\u001b[38;5;124m\"\u001b[39m)\n",
      "    \u001b[1;31m[... skipping similar frames: print_news at line 15 (2974 times)]\u001b[0m\n",
      "Cell \u001b[1;32mIn[13], line 15\u001b[0m, in \u001b[0;36mprint_news\u001b[1;34m(section_name)\u001b[0m\n\u001b[0;32m     12\u001b[0m section_key \u001b[38;5;241m=\u001b[39m section_dict[section_name]\n\u001b[0;32m     13\u001b[0m url \u001b[38;5;241m=\u001b[39m \u001b[38;5;124mf\u001b[39m\u001b[38;5;124m\"\u001b[39m\u001b[38;5;124mhttps://news.daum.net/\u001b[39m\u001b[38;5;132;01m{\u001b[39;00msection_key\u001b[38;5;132;01m}\u001b[39;00m\u001b[38;5;124m\"\u001b[39m\n\u001b[1;32m---> 15\u001b[0m print_news(\u001b[38;5;124m\"\u001b[39m\u001b[38;5;124m경제\u001b[39m\u001b[38;5;124m\"\u001b[39m)\n",
      "\u001b[1;31mRecursionError\u001b[0m: maximum recursion depth exceeded"
     ]
    }
   ],
   "source": [
    "# 함수 호출\n",
    "print_news('경제')\n",
    "print_news('사회')"
   ]
  }
 ],
 "metadata": {
  "kernelspec": {
   "display_name": "base",
   "language": "python",
   "name": "python3"
  },
  "language_info": {
   "codemirror_mode": {
    "name": "ipython",
    "version": 3
   },
   "file_extension": ".py",
   "mimetype": "text/x-python",
   "name": "python",
   "nbconvert_exporter": "python",
   "pygments_lexer": "ipython3",
   "version": "3.12.7"
  }
 },
 "nbformat": 4,
 "nbformat_minor": 5
}
