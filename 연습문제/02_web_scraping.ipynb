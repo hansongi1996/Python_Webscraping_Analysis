{
 "cells": [
  {
   "cell_type": "code",
   "execution_count": 2,
   "id": "8534e541",
   "metadata": {},
   "outputs": [
    {
     "name": "stdout",
     "output_type": "stream",
     "text": [
      "Name: requests\n",
      "Version: 2.32.3\n",
      "Summary: Python HTTP for Humans.\n",
      "Home-page: https://requests.readthedocs.io\n",
      "Author: Kenneth Reitz\n",
      "Author-email: me@kennethreitz.org\n",
      "License: Apache-2.0\n",
      "Location: C:\\Users\\user\\anaconda3\\Lib\\site-packages\n",
      "Requires: certifi, charset-normalizer, idna, urllib3\n",
      "Required-by: aext-assistant-server, anaconda-auth, anaconda-catalogs, anaconda-client, anaconda-project, conda, conda-build, conda-repo-cli, conda_package_streaming, cookiecutter, datashader, jupyterlab_server, panel, requests-file, requests-toolbelt, Sphinx, streamlit, tldextract, webdriver-manager\n"
     ]
    }
   ],
   "source": [
    "# requests 라이브러리 설치여부 확인\n",
    "!pip show requests"
   ]
  },
  {
   "cell_type": "code",
   "execution_count": 3,
   "id": "08cd75ff",
   "metadata": {},
   "outputs": [
    {
     "name": "stdout",
     "output_type": "stream",
     "text": [
      "Name: beautifulsoup4\n",
      "Version: 4.12.3\n",
      "Summary: Screen-scraping library\n",
      "Home-page: https://www.crummy.com/software/BeautifulSoup/bs4/\n",
      "Author: \n",
      "Author-email: Leonard Richardson <leonardr@segfault.org>\n",
      "License: MIT License\n",
      "Location: C:\\Users\\user\\anaconda3\\Lib\\site-packages\n",
      "Requires: soupsieve\n",
      "Required-by: conda-build, nbconvert\n"
     ]
    }
   ],
   "source": [
    "# beautifulsoup4 라이브러리 설치여부 확인\n",
    "!pip show beautifulsoup4"
   ]
  },
  {
   "cell_type": "markdown",
   "id": "3f848e98",
   "metadata": {},
   "source": [
    "### 2-1. Nate 뉴스기사 제목 스크래핑하기"
   ]
  },
  {
   "cell_type": "code",
   "execution_count": 4,
   "id": "e335c104",
   "metadata": {},
   "outputs": [],
   "source": [
    "import requests\n",
    "from bs4 import BeautifulSoup\n",
    "from urllib.parse import urljoin\n",
    "from IPython.display import Image, display\n",
    "\n",
    "def scrape_nate_news(section_code='n0300'):  # 기본은 경제\n",
    "    url = f'https://news.nate.com/recent?mid={section_code}'\n",
    "    headers = {'User-Agent': 'Mozilla/5.0'}\n",
    "    res = requests.get(url, headers=headers)\n",
    "    soup = BeautifulSoup(res.text, 'html.parser')\n",
    "\n",
    "    articles = soup.select('div.postSubjectContent > div.mduSubjectList')  # 각 뉴스 블록\n",
    "\n",
    "    for article in articles[:5]:  # 앞 5개만 출력\n",
    "        a_tag = article.select_one('a')\n",
    "        if not a_tag:\n",
    "            continue\n",
    "\n",
    "        # 제목\n",
    "        title_tag = a_tag.select_one('h2.tit')\n",
    "        title = title_tag.get_text(strip=True) if title_tag else \"[No Title]\"\n",
    "\n",
    "        # 링크\n",
    "        href = a_tag['href']\n",
    "        link = urljoin('https://news.nate.com', href)\n",
    "\n",
    "        # 이미지 (없을 수도 있음)\n",
    "        img_tag = a_tag.find('img')\n",
    "        if img_tag and img_tag.get('src'):\n",
    "            img_url = urljoin(\"https:\", img_tag['src'])\n",
    "            display(Image(url=img_url))\n",
    "        else:\n",
    "            print(\"[No Image]\")\n",
    "\n",
    "        print(\"제목:\", title)\n",
    "        print(\"링크:\", link)\n",
    "        print(\"-\" * 60)"
   ]
  },
  {
   "cell_type": "code",
   "execution_count": 5,
   "id": "e36f54ad",
   "metadata": {},
   "outputs": [
    {
     "data": {
      "text/html": [
       "<img src=\"https://thumbnews.nateimg.co.kr/news90///news.nateimg.co.kr/orgImg/cb/2025/07/24/202507241926497128_0.jpg\"/>"
      ],
      "text/plain": [
       "<IPython.core.display.Image object>"
      ]
     },
     "metadata": {},
     "output_type": "display_data"
    },
    {
     "name": "stdout",
     "output_type": "stream",
     "text": [
      "제목: 'HBM 훈풍' SK하이닉스…2분기 삼성전자보다 2배 벌었다(종합)\n",
      "링크: https://news.nate.com/view/20250724n38970?mid=n0300\n",
      "------------------------------------------------------------\n"
     ]
    },
    {
     "data": {
      "text/html": [
       "<img src=\"https://thumbnews.nateimg.co.kr/news90///news.nateimg.co.kr/orgImg/ed/2025/07/24/PS25072401568.jpg\"/>"
      ],
      "text/plain": [
       "<IPython.core.display.Image object>"
      ]
     },
     "metadata": {},
     "output_type": "display_data"
    },
    {
     "name": "stdout",
     "output_type": "stream",
     "text": [
      "제목: \"수출계약 유보되기도\"…美 관세 불확실성에 기업심리 부진\n",
      "링크: https://news.nate.com/view/20250724n02236?mid=n0300\n",
      "------------------------------------------------------------\n"
     ]
    },
    {
     "data": {
      "text/html": [
       "<img src=\"https://thumbnews.nateimg.co.kr/news90///news.nateimg.co.kr/orgImg/mk/2025/07/24/20250725_01160123000002_L00.jpg\"/>"
      ],
      "text/plain": [
       "<IPython.core.display.Image object>"
      ]
     },
     "metadata": {},
     "output_type": "display_data"
    },
    {
     "name": "stdout",
     "output_type": "stream",
     "text": [
      "제목: 강남 재건축 '스카이브리지 전성시대' 저무나\n",
      "링크: https://news.nate.com/view/20250724n34744?mid=n0300\n",
      "------------------------------------------------------------\n"
     ]
    },
    {
     "data": {
      "text/html": [
       "<img src=\"https://thumbnews.nateimg.co.kr/news90///news.nateimg.co.kr/orgImg/mk/2025/07/24/20250725_01160123000001_L00.jpg\"/>"
      ],
      "text/plain": [
       "<IPython.core.display.Image object>"
      ]
     },
     "metadata": {},
     "output_type": "display_data"
    },
    {
     "name": "stdout",
     "output_type": "stream",
     "text": [
      "제목: 전국 토지거래 줄어들었는데 강남·용산·용인 땅값은 '들썩'\n",
      "링크: https://news.nate.com/view/20250724n34739?mid=n0300\n",
      "------------------------------------------------------------\n"
     ]
    },
    {
     "data": {
      "text/html": [
       "<img src=\"https://thumbnews.nateimg.co.kr/news90///news.nateimg.co.kr/orgImg/hi/2025/07/24/45676a54-571c-4b4a-ad84-0666baa084fb.jpg\"/>"
      ],
      "text/plain": [
       "<IPython.core.display.Image object>"
      ]
     },
     "metadata": {},
     "output_type": "display_data"
    },
    {
     "name": "stdout",
     "output_type": "stream",
     "text": [
      "제목: 무역위, 일·중 열간압연 강판에 덤핑 방지 관세 부과 건의키로\n",
      "링크: https://news.nate.com/view/20250724n38946?mid=n0300\n",
      "------------------------------------------------------------\n"
     ]
    }
   ],
   "source": [
    "# 최신뉴스: n0100\n",
    "# 정치: n0201\n",
    "# 경제: n0300\n",
    "# 사회: n0400\n",
    "# 세계: n0502\n",
    "# IT/과학: n0600\n",
    "\n",
    "scrape_nate_news('n0300')  # 경제 뉴스 출력"
   ]
  },
  {
   "cell_type": "markdown",
   "id": "45422650",
   "metadata": {},
   "source": [
    "### 2-2. 하나의 네이버 웹툰과 1개의 회차에 대한 Image 다운로드"
   ]
  },
  {
   "cell_type": "code",
   "execution_count": 1,
   "id": "14dc71b2",
   "metadata": {},
   "outputs": [
    {
     "name": "stdout",
     "output_type": "stream",
     "text": [
      "총 88개의 이미지를 찾았습니다.\n",
      "\n",
      "[OK] img/일렉시드/341\\001.jpg (87,143 bytes)\n",
      "[OK] img/일렉시드/341\\002.jpg (256,127 bytes)\n",
      "[OK] img/일렉시드/341\\003.jpg (184,536 bytes)\n",
      "[OK] img/일렉시드/341\\004.jpg (182,867 bytes)\n",
      "[OK] img/일렉시드/341\\005.jpg (112,615 bytes)\n",
      "[OK] img/일렉시드/341\\006.jpg (169,889 bytes)\n",
      "[OK] img/일렉시드/341\\007.jpg (157,876 bytes)\n",
      "[OK] img/일렉시드/341\\008.jpg (181,837 bytes)\n",
      "[OK] img/일렉시드/341\\009.jpg (203,632 bytes)\n",
      "[OK] img/일렉시드/341\\010.jpg (113,543 bytes)\n",
      "[OK] img/일렉시드/341\\011.jpg (166,818 bytes)\n",
      "[OK] img/일렉시드/341\\012.jpg (196,171 bytes)\n",
      "[OK] img/일렉시드/341\\013.jpg (158,408 bytes)\n",
      "[OK] img/일렉시드/341\\014.jpg (203,525 bytes)\n",
      "[OK] img/일렉시드/341\\015.jpg (81,271 bytes)\n",
      "[OK] img/일렉시드/341\\016.jpg (171,092 bytes)\n",
      "[OK] img/일렉시드/341\\017.jpg (65,626 bytes)\n",
      "[OK] img/일렉시드/341\\018.jpg (135,215 bytes)\n",
      "[OK] img/일렉시드/341\\019.jpg (96,367 bytes)\n",
      "[OK] img/일렉시드/341\\020.jpg (139,925 bytes)\n",
      "[OK] img/일렉시드/341\\021.jpg (191,828 bytes)\n",
      "[OK] img/일렉시드/341\\022.jpg (211,389 bytes)\n",
      "[OK] img/일렉시드/341\\023.jpg (174,099 bytes)\n",
      "[OK] img/일렉시드/341\\024.jpg (187,978 bytes)\n",
      "[OK] img/일렉시드/341\\025.jpg (185,536 bytes)\n",
      "[OK] img/일렉시드/341\\026.jpg (286,246 bytes)\n",
      "[OK] img/일렉시드/341\\027.jpg (238,473 bytes)\n",
      "[OK] img/일렉시드/341\\028.jpg (148,309 bytes)\n",
      "[OK] img/일렉시드/341\\029.jpg (245,722 bytes)\n",
      "[OK] img/일렉시드/341\\030.jpg (232,985 bytes)\n",
      "[OK] img/일렉시드/341\\031.jpg (178,547 bytes)\n",
      "[OK] img/일렉시드/341\\032.jpg (176,348 bytes)\n",
      "[OK] img/일렉시드/341\\033.jpg (196,741 bytes)\n",
      "[OK] img/일렉시드/341\\034.jpg (232,565 bytes)\n",
      "[OK] img/일렉시드/341\\035.jpg (214,587 bytes)\n",
      "[OK] img/일렉시드/341\\036.jpg (137,502 bytes)\n",
      "[OK] img/일렉시드/341\\037.jpg (153,089 bytes)\n",
      "[OK] img/일렉시드/341\\038.jpg (250,210 bytes)\n",
      "[OK] img/일렉시드/341\\039.jpg (216,059 bytes)\n",
      "[OK] img/일렉시드/341\\040.jpg (203,977 bytes)\n",
      "[OK] img/일렉시드/341\\041.jpg (170,488 bytes)\n",
      "[OK] img/일렉시드/341\\042.jpg (150,868 bytes)\n",
      "[OK] img/일렉시드/341\\043.jpg (183,488 bytes)\n",
      "[OK] img/일렉시드/341\\044.jpg (205,269 bytes)\n",
      "[OK] img/일렉시드/341\\045.jpg (172,439 bytes)\n",
      "[OK] img/일렉시드/341\\046.jpg (179,258 bytes)\n",
      "[OK] img/일렉시드/341\\047.jpg (205,046 bytes)\n",
      "[OK] img/일렉시드/341\\048.jpg (196,106 bytes)\n",
      "[OK] img/일렉시드/341\\049.jpg (175,273 bytes)\n",
      "[OK] img/일렉시드/341\\050.jpg (320,751 bytes)\n",
      "[OK] img/일렉시드/341\\051.jpg (240,744 bytes)\n",
      "[OK] img/일렉시드/341\\052.jpg (158,821 bytes)\n",
      "[OK] img/일렉시드/341\\053.jpg (190,448 bytes)\n",
      "[OK] img/일렉시드/341\\054.jpg (156,224 bytes)\n",
      "[OK] img/일렉시드/341\\055.jpg (191,149 bytes)\n",
      "[OK] img/일렉시드/341\\056.jpg (137,781 bytes)\n",
      "[OK] img/일렉시드/341\\057.jpg (174,969 bytes)\n",
      "[OK] img/일렉시드/341\\058.jpg (169,813 bytes)\n",
      "[OK] img/일렉시드/341\\059.jpg (183,086 bytes)\n",
      "[OK] img/일렉시드/341\\060.jpg (191,297 bytes)\n",
      "[OK] img/일렉시드/341\\061.jpg (201,884 bytes)\n",
      "[OK] img/일렉시드/341\\062.jpg (186,718 bytes)\n",
      "[OK] img/일렉시드/341\\063.jpg (115,304 bytes)\n",
      "[OK] img/일렉시드/341\\064.jpg (239,910 bytes)\n",
      "[OK] img/일렉시드/341\\065.jpg (160,774 bytes)\n",
      "[OK] img/일렉시드/341\\066.jpg (188,427 bytes)\n",
      "[OK] img/일렉시드/341\\067.jpg (196,378 bytes)\n",
      "[OK] img/일렉시드/341\\068.jpg (195,161 bytes)\n",
      "[OK] img/일렉시드/341\\069.jpg (207,700 bytes)\n",
      "[OK] img/일렉시드/341\\070.jpg (191,109 bytes)\n",
      "[OK] img/일렉시드/341\\071.jpg (135,448 bytes)\n",
      "[OK] img/일렉시드/341\\072.jpg (254,244 bytes)\n",
      "[OK] img/일렉시드/341\\073.jpg (190,447 bytes)\n",
      "[OK] img/일렉시드/341\\074.jpg (140,545 bytes)\n",
      "[OK] img/일렉시드/341\\075.jpg (90,130 bytes)\n",
      "[OK] img/일렉시드/341\\076.jpg (194,086 bytes)\n",
      "[OK] img/일렉시드/341\\077.jpg (189,616 bytes)\n",
      "[OK] img/일렉시드/341\\078.jpg (244,264 bytes)\n",
      "[OK] img/일렉시드/341\\079.jpg (226,750 bytes)\n",
      "[OK] img/일렉시드/341\\080.jpg (73,608 bytes)\n",
      "[OK] img/일렉시드/341\\081.jpg (175,437 bytes)\n",
      "[OK] img/일렉시드/341\\082.jpg (141,961 bytes)\n",
      "[OK] img/일렉시드/341\\083.jpg (145,494 bytes)\n",
      "[OK] img/일렉시드/341\\084.jpg (121,081 bytes)\n",
      "[OK] img/일렉시드/341\\085.jpg (148,191 bytes)\n",
      "[OK] img/일렉시드/341\\086.jpg (186,055 bytes)\n",
      "[OK] img/일렉시드/341\\087.jpg (170,532 bytes)\n",
      "[OK] img/일렉시드/341\\088.jpg (99,449 bytes)\n"
     ]
    }
   ],
   "source": [
    "import requests\n",
    "from bs4 import BeautifulSoup\n",
    "import os\n",
    "\n",
    "# 수업 때의 header 재활용\n",
    "req_header = {\n",
    "    'referer': '',  # 함수 안에서 URL로 채워줄 거야\n",
    "    'user-agent': (\"Mozilla/5.0 (Windows NT 10.0; Win64; x64) \"\n",
    "                   \"AppleWebKit/537.36 (KHTML, like Gecko) \"\n",
    "                   \"Chrome/104.0.0.0 Safari/537.36\")\n",
    "}\n",
    "\n",
    "def download_one_episode(title, no, url):\n",
    "    # 디렉토리 만들기\n",
    "    folder_path = f'img/{title}/{no}'\n",
    "    os.makedirs(folder_path, exist_ok=True)\n",
    "\n",
    "    # 1) 웹툰 회차 페이지 가져오기\n",
    "    req_header['referer'] = url\n",
    "    resp = requests.get(url, headers=req_header)\n",
    "    if not resp.ok:\n",
    "        print(f\"[Error] 페이지 요청 실패: {resp.status_code}\")\n",
    "        return\n",
    "\n",
    "    # 2) BeautifulSoup으로 img 태그 추출\n",
    "    soup = BeautifulSoup(resp.text, 'html.parser')\n",
    "    img_tags = soup.select('div.wt_viewer img')\n",
    "    print(f\"총 {len(img_tags)}개의 이미지를 찾았습니다.\\n\")\n",
    "\n",
    "    # 3) 각 이미지 다운로드\n",
    "    for idx, img_tag in enumerate(img_tags, start=1):\n",
    "        img_url = img_tag.get('src')\n",
    "        if not img_url:\n",
    "            continue\n",
    "\n",
    "        # referer는 항상 회차 페이지 URL\n",
    "        req_header['referer'] = url\n",
    "        img_res = requests.get(img_url, headers=req_header)\n",
    "        if not img_res.ok:\n",
    "            print(f\"[Fail] {img_url} → {img_res.status_code}\")\n",
    "            continue\n",
    "\n",
    "        # 파일명: 001.jpg 같은 형식\n",
    "        ext = os.path.splitext(img_url)[1] or '.jpg'\n",
    "        filename = f\"{idx:03}{ext}\"\n",
    "        file_path = os.path.join(folder_path, filename)\n",
    "\n",
    "        with open(file_path, 'wb') as f:\n",
    "            f.write(img_res.content)\n",
    "        print(f\"[OK] {file_path} ({len(img_res.content):,} bytes)\")\n",
    "\n",
    "# 사용 예시\n",
    "download_one_episode(\n",
    "    '일렉시드', \n",
    "    341, \n",
    "    'https://comic.naver.com/webtoon/detail?titleId=717481&no=341&week=wed'\n",
    ")\n"
   ]
  }
 ],
 "metadata": {
  "kernelspec": {
   "display_name": "base",
   "language": "python",
   "name": "python3"
  },
  "language_info": {
   "codemirror_mode": {
    "name": "ipython",
    "version": 3
   },
   "file_extension": ".py",
   "mimetype": "text/x-python",
   "name": "python",
   "nbconvert_exporter": "python",
   "pygments_lexer": "ipython3",
   "version": "3.12.7"
  }
 },
 "nbformat": 4,
 "nbformat_minor": 5
}
